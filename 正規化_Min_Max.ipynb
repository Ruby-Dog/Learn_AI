{
  "nbformat": 4,
  "nbformat_minor": 0,
  "metadata": {
    "colab": {
      "name": "正規化_Min-Max.ipynb",
      "provenance": [],
      "authorship_tag": "ABX9TyOWThotVO1HTIgeWLWJsEYv",
      "include_colab_link": true
    },
    "kernelspec": {
      "name": "python3",
      "display_name": "Python 3"
    },
    "language_info": {
      "name": "python"
    }
  },
  "cells": [
    {
      "cell_type": "markdown",
      "metadata": {
        "id": "view-in-github",
        "colab_type": "text"
      },
      "source": [
        "<a href=\"https://colab.research.google.com/github/Ruby-Dog/Learn_ML/blob/main/%E6%AD%A3%E8%A6%8F%E5%8C%96_Min_Max.ipynb\" target=\"_parent\"><img src=\"https://colab.research.google.com/assets/colab-badge.svg\" alt=\"Open In Colab\"/></a>"
      ]
    },
    {
      "cell_type": "code",
      "metadata": {
        "id": "2H8wvY1RyPMY"
      },
      "source": [
        "from __future__ import division\n",
        "\n",
        "\n",
        "def width(lst):  #獲得矩陣column數量\n",
        "  i=0\n",
        "  for j in lst[0]:\n",
        "    i=i+1\n",
        "  return i  \n",
        "\n",
        "\n",
        "def AutoNorm(mat):   #mat為矩陣(二維陣列)\n",
        "  row_count=len(mat)  #矩陣row數量\n",
        "  column_count=width(mat) #矩陣column數量\n",
        "  MinNum =[999999999]*column_count  #先將MinNum裡的數都設為最大值,等等比較時只要比他小就取代他的值成為最小值,再繼續比下去\n",
        "  MaxNum =[0]*column_count      #先將MaxNum裡的數都設為最小值,等等比較時只要比他大就取代他的值成為最大值,再繼續比下去\n",
        "  \n",
        "  # 找出每一欄位(column)的最大值\n",
        "  for r in mat:       # r為row c為column \n",
        "    for c in range(0,column_count):\n",
        "      if r[c]>MaxNum[c]:\n",
        "        MaxNum[c]=r[c]\n",
        "  \n",
        "  # 找出每一欄位(column)最小值\n",
        "  for r in mat:\n",
        "    for c in range(0,column_count):\n",
        "      if r[c]<MinNum[c]:\n",
        "        MinNum[c]=r[c]\n",
        "\n",
        "  section=[]\n",
        "  for i in map(lambda x:x[0]-x[1],zip(MaxNum,MinNum)):     #map產生出一個迭代器,用for迴圈把他變成list\n",
        "    section.append(i)\n",
        "  \n",
        "  NormMat=[]\n",
        "\n",
        "  for k in mat:\n",
        "    \n",
        "    distance=[]\n",
        "    for i in map(lambda x: x[0]-x[1], zip(k,MinNum)):\n",
        "      distance.append(i)\n",
        "    \n",
        "\n",
        "    value=[]\n",
        "    for i in map(lambda x: x[0]/x[1], zip(distance,section)):\n",
        "      value.append(i)\n",
        "    \n",
        "\n",
        "    NormMat.append(value)\n",
        "\n",
        "  return NormMat    "
      ],
      "execution_count": 5,
      "outputs": []
    },
    {
      "cell_type": "code",
      "metadata": {
        "colab": {
          "base_uri": "https://localhost:8080/"
        },
        "id": "rwFYhwJ8ffoc",
        "outputId": "32d0472d-8522-420e-a04b-c66b484db150"
      },
      "source": [
        "mat = [[1,300,50],[2,350,58],[2,330,49],[3,300,59]]\n",
        "print(AutoNorm(mat))"
      ],
      "execution_count": 6,
      "outputs": [
        {
          "output_type": "stream",
          "text": [
            "[[0.0, 0.0, 0.1], [0.5, 1.0, 0.9], [0.5, 0.6, 0.0], [1.0, 0.0, 1.0]]\n"
          ],
          "name": "stdout"
        }
      ]
    },
    {
      "cell_type": "code",
      "metadata": {
        "id": "iquYN0iuzNYM",
        "colab": {
          "base_uri": "https://localhost:8080/"
        },
        "outputId": "da8894a7-cf60-4f8e-8167-7a3df48547d3"
      },
      "source": [
        " # 二維陣列 列表生成式法\n",
        "\n",
        "column=3\n",
        "row=5\n",
        "test = [[0 for i in range(column)]for j in range(row)]  \n",
        "test"
      ],
      "execution_count": 7,
      "outputs": [
        {
          "output_type": "execute_result",
          "data": {
            "text/plain": [
              "[[0, 0, 0], [0, 0, 0], [0, 0, 0], [0, 0, 0], [0, 0, 0]]"
            ]
          },
          "metadata": {
            "tags": []
          },
          "execution_count": 7
        }
      ]
    },
    {
      "cell_type": "markdown",
      "metadata": {
        "id": "PJPTXhJw1KR5"
      },
      "source": [
        ""
      ]
    }
  ]
}