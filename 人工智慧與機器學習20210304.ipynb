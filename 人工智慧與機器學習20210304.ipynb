{
  "nbformat": 4,
  "nbformat_minor": 0,
  "metadata": {
    "colab": {
      "name": "人工智慧與機器學習20210304.ipynb",
      "provenance": [],
      "authorship_tag": "ABX9TyNuS7j6lkx9PquLW9YxBCPr",
      "include_colab_link": true
    },
    "kernelspec": {
      "name": "python3",
      "display_name": "Python 3"
    }
  },
  "cells": [
    {
      "cell_type": "markdown",
      "metadata": {
        "id": "view-in-github",
        "colab_type": "text"
      },
      "source": [
        "<a href=\"https://colab.research.google.com/github/Ruby-Dog/Learn_AI/blob/main/%E4%BA%BA%E5%B7%A5%E6%99%BA%E6%85%A7%E8%88%87%E6%A9%9F%E5%99%A8%E5%AD%B8%E7%BF%9220210304.ipynb\" target=\"_parent\"><img src=\"https://colab.research.google.com/assets/colab-badge.svg\" alt=\"Open In Colab\"/></a>"
      ]
    },
    {
      "cell_type": "code",
      "metadata": {
        "colab": {
          "base_uri": "https://localhost:8080/"
        },
        "id": "q38_poXmI-0e",
        "outputId": "1981482c-8541-4b25-8c77-1717337b7dba"
      },
      "source": [
        "from sklearn import linear_model\r\n",
        "reg = linear_model.LinearRegression()\r\n",
        "reg.fit ([[0, 0], [1, 1], [2, 2]], [0, 1, 2])\r\n",
        "reg.coef_"
      ],
      "execution_count": 7,
      "outputs": [
        {
          "output_type": "execute_result",
          "data": {
            "text/plain": [
              "array([0.5, 0.5])"
            ]
          },
          "metadata": {
            "tags": []
          },
          "execution_count": 7
        }
      ]
    },
    {
      "cell_type": "code",
      "metadata": {
        "colab": {
          "base_uri": "https://localhost:8080/"
        },
        "id": "2W7_FnCxTER7",
        "outputId": "118b4040-d441-4021-c260-b2470c887f9f"
      },
      "source": [
        "!wget https://gist.githubusercontent.com/netj/8836201/raw/6f9306ad21398ea43cba4f7d537619d0e07d5ae3/iris.csv"
      ],
      "execution_count": 9,
      "outputs": [
        {
          "output_type": "stream",
          "text": [
            "--2021-03-04 03:33:33--  https://gist.githubusercontent.com/netj/8836201/raw/6f9306ad21398ea43cba4f7d537619d0e07d5ae3/iris.csv\n",
            "Resolving gist.githubusercontent.com (gist.githubusercontent.com)... 185.199.108.133, 185.199.109.133, 185.199.110.133, ...\n",
            "Connecting to gist.githubusercontent.com (gist.githubusercontent.com)|185.199.108.133|:443... connected.\n",
            "HTTP request sent, awaiting response... 200 OK\n",
            "Length: 3975 (3.9K) [text/plain]\n",
            "Saving to: ‘iris.csv’\n",
            "\n",
            "iris.csv            100%[===================>]   3.88K  --.-KB/s    in 0s      \n",
            "\n",
            "2021-03-04 03:33:34 (58.9 MB/s) - ‘iris.csv’ saved [3975/3975]\n",
            "\n"
          ],
          "name": "stdout"
        }
      ]
    },
    {
      "cell_type": "code",
      "metadata": {
        "colab": {
          "base_uri": "https://localhost:8080/"
        },
        "id": "0Jz32Il3S6_I",
        "outputId": "3e706914-728c-4174-8a7f-5e45f3547bbf"
      },
      "source": [
        "import csv\r\n",
        "\r\n",
        "#開啟csv檔案\r\n",
        "with open('iris.csv',newline=\"\") as csvfile:\r\n",
        "  \r\n",
        "  #讀取csv檔案內容\r\n",
        "  rows = csv.reader(csvfile)\r\n",
        "\r\n",
        "  #以迴圈輸出每一列\r\n",
        "  for row in rows:\r\n",
        "    print(row)\r\n",
        "\r\n"
      ],
      "execution_count": 13,
      "outputs": [
        {
          "output_type": "stream",
          "text": [
            "['sepal.length', 'sepal.width', 'petal.length', 'petal.width', 'variety']\n",
            "['5.1', '3.5', '1.4', '.2', 'Setosa']\n",
            "['4.9', '3', '1.4', '.2', 'Setosa']\n",
            "['4.7', '3.2', '1.3', '.2', 'Setosa']\n",
            "['4.6', '3.1', '1.5', '.2', 'Setosa']\n",
            "['5', '3.6', '1.4', '.2', 'Setosa']\n",
            "['5.4', '3.9', '1.7', '.4', 'Setosa']\n",
            "['4.6', '3.4', '1.4', '.3', 'Setosa']\n",
            "['5', '3.4', '1.5', '.2', 'Setosa']\n",
            "['4.4', '2.9', '1.4', '.2', 'Setosa']\n",
            "['4.9', '3.1', '1.5', '.1', 'Setosa']\n",
            "['5.4', '3.7', '1.5', '.2', 'Setosa']\n",
            "['4.8', '3.4', '1.6', '.2', 'Setosa']\n",
            "['4.8', '3', '1.4', '.1', 'Setosa']\n",
            "['4.3', '3', '1.1', '.1', 'Setosa']\n",
            "['5.8', '4', '1.2', '.2', 'Setosa']\n",
            "['5.7', '4.4', '1.5', '.4', 'Setosa']\n",
            "['5.4', '3.9', '1.3', '.4', 'Setosa']\n",
            "['5.1', '3.5', '1.4', '.3', 'Setosa']\n",
            "['5.7', '3.8', '1.7', '.3', 'Setosa']\n",
            "['5.1', '3.8', '1.5', '.3', 'Setosa']\n",
            "['5.4', '3.4', '1.7', '.2', 'Setosa']\n",
            "['5.1', '3.7', '1.5', '.4', 'Setosa']\n",
            "['4.6', '3.6', '1', '.2', 'Setosa']\n",
            "['5.1', '3.3', '1.7', '.5', 'Setosa']\n",
            "['4.8', '3.4', '1.9', '.2', 'Setosa']\n",
            "['5', '3', '1.6', '.2', 'Setosa']\n",
            "['5', '3.4', '1.6', '.4', 'Setosa']\n",
            "['5.2', '3.5', '1.5', '.2', 'Setosa']\n",
            "['5.2', '3.4', '1.4', '.2', 'Setosa']\n",
            "['4.7', '3.2', '1.6', '.2', 'Setosa']\n",
            "['4.8', '3.1', '1.6', '.2', 'Setosa']\n",
            "['5.4', '3.4', '1.5', '.4', 'Setosa']\n",
            "['5.2', '4.1', '1.5', '.1', 'Setosa']\n",
            "['5.5', '4.2', '1.4', '.2', 'Setosa']\n",
            "['4.9', '3.1', '1.5', '.2', 'Setosa']\n",
            "['5', '3.2', '1.2', '.2', 'Setosa']\n",
            "['5.5', '3.5', '1.3', '.2', 'Setosa']\n",
            "['4.9', '3.6', '1.4', '.1', 'Setosa']\n",
            "['4.4', '3', '1.3', '.2', 'Setosa']\n",
            "['5.1', '3.4', '1.5', '.2', 'Setosa']\n",
            "['5', '3.5', '1.3', '.3', 'Setosa']\n",
            "['4.5', '2.3', '1.3', '.3', 'Setosa']\n",
            "['4.4', '3.2', '1.3', '.2', 'Setosa']\n",
            "['5', '3.5', '1.6', '.6', 'Setosa']\n",
            "['5.1', '3.8', '1.9', '.4', 'Setosa']\n",
            "['4.8', '3', '1.4', '.3', 'Setosa']\n",
            "['5.1', '3.8', '1.6', '.2', 'Setosa']\n",
            "['4.6', '3.2', '1.4', '.2', 'Setosa']\n",
            "['5.3', '3.7', '1.5', '.2', 'Setosa']\n",
            "['5', '3.3', '1.4', '.2', 'Setosa']\n",
            "['7', '3.2', '4.7', '1.4', 'Versicolor']\n",
            "['6.4', '3.2', '4.5', '1.5', 'Versicolor']\n",
            "['6.9', '3.1', '4.9', '1.5', 'Versicolor']\n",
            "['5.5', '2.3', '4', '1.3', 'Versicolor']\n",
            "['6.5', '2.8', '4.6', '1.5', 'Versicolor']\n",
            "['5.7', '2.8', '4.5', '1.3', 'Versicolor']\n",
            "['6.3', '3.3', '4.7', '1.6', 'Versicolor']\n",
            "['4.9', '2.4', '3.3', '1', 'Versicolor']\n",
            "['6.6', '2.9', '4.6', '1.3', 'Versicolor']\n",
            "['5.2', '2.7', '3.9', '1.4', 'Versicolor']\n",
            "['5', '2', '3.5', '1', 'Versicolor']\n",
            "['5.9', '3', '4.2', '1.5', 'Versicolor']\n",
            "['6', '2.2', '4', '1', 'Versicolor']\n",
            "['6.1', '2.9', '4.7', '1.4', 'Versicolor']\n",
            "['5.6', '2.9', '3.6', '1.3', 'Versicolor']\n",
            "['6.7', '3.1', '4.4', '1.4', 'Versicolor']\n",
            "['5.6', '3', '4.5', '1.5', 'Versicolor']\n",
            "['5.8', '2.7', '4.1', '1', 'Versicolor']\n",
            "['6.2', '2.2', '4.5', '1.5', 'Versicolor']\n",
            "['5.6', '2.5', '3.9', '1.1', 'Versicolor']\n",
            "['5.9', '3.2', '4.8', '1.8', 'Versicolor']\n",
            "['6.1', '2.8', '4', '1.3', 'Versicolor']\n",
            "['6.3', '2.5', '4.9', '1.5', 'Versicolor']\n",
            "['6.1', '2.8', '4.7', '1.2', 'Versicolor']\n",
            "['6.4', '2.9', '4.3', '1.3', 'Versicolor']\n",
            "['6.6', '3', '4.4', '1.4', 'Versicolor']\n",
            "['6.8', '2.8', '4.8', '1.4', 'Versicolor']\n",
            "['6.7', '3', '5', '1.7', 'Versicolor']\n",
            "['6', '2.9', '4.5', '1.5', 'Versicolor']\n",
            "['5.7', '2.6', '3.5', '1', 'Versicolor']\n",
            "['5.5', '2.4', '3.8', '1.1', 'Versicolor']\n",
            "['5.5', '2.4', '3.7', '1', 'Versicolor']\n",
            "['5.8', '2.7', '3.9', '1.2', 'Versicolor']\n",
            "['6', '2.7', '5.1', '1.6', 'Versicolor']\n",
            "['5.4', '3', '4.5', '1.5', 'Versicolor']\n",
            "['6', '3.4', '4.5', '1.6', 'Versicolor']\n",
            "['6.7', '3.1', '4.7', '1.5', 'Versicolor']\n",
            "['6.3', '2.3', '4.4', '1.3', 'Versicolor']\n",
            "['5.6', '3', '4.1', '1.3', 'Versicolor']\n",
            "['5.5', '2.5', '4', '1.3', 'Versicolor']\n",
            "['5.5', '2.6', '4.4', '1.2', 'Versicolor']\n",
            "['6.1', '3', '4.6', '1.4', 'Versicolor']\n",
            "['5.8', '2.6', '4', '1.2', 'Versicolor']\n",
            "['5', '2.3', '3.3', '1', 'Versicolor']\n",
            "['5.6', '2.7', '4.2', '1.3', 'Versicolor']\n",
            "['5.7', '3', '4.2', '1.2', 'Versicolor']\n",
            "['5.7', '2.9', '4.2', '1.3', 'Versicolor']\n",
            "['6.2', '2.9', '4.3', '1.3', 'Versicolor']\n",
            "['5.1', '2.5', '3', '1.1', 'Versicolor']\n",
            "['5.7', '2.8', '4.1', '1.3', 'Versicolor']\n",
            "['6.3', '3.3', '6', '2.5', 'Virginica']\n",
            "['5.8', '2.7', '5.1', '1.9', 'Virginica']\n",
            "['7.1', '3', '5.9', '2.1', 'Virginica']\n",
            "['6.3', '2.9', '5.6', '1.8', 'Virginica']\n",
            "['6.5', '3', '5.8', '2.2', 'Virginica']\n",
            "['7.6', '3', '6.6', '2.1', 'Virginica']\n",
            "['4.9', '2.5', '4.5', '1.7', 'Virginica']\n",
            "['7.3', '2.9', '6.3', '1.8', 'Virginica']\n",
            "['6.7', '2.5', '5.8', '1.8', 'Virginica']\n",
            "['7.2', '3.6', '6.1', '2.5', 'Virginica']\n",
            "['6.5', '3.2', '5.1', '2', 'Virginica']\n",
            "['6.4', '2.7', '5.3', '1.9', 'Virginica']\n",
            "['6.8', '3', '5.5', '2.1', 'Virginica']\n",
            "['5.7', '2.5', '5', '2', 'Virginica']\n",
            "['5.8', '2.8', '5.1', '2.4', 'Virginica']\n",
            "['6.4', '3.2', '5.3', '2.3', 'Virginica']\n",
            "['6.5', '3', '5.5', '1.8', 'Virginica']\n",
            "['7.7', '3.8', '6.7', '2.2', 'Virginica']\n",
            "['7.7', '2.6', '6.9', '2.3', 'Virginica']\n",
            "['6', '2.2', '5', '1.5', 'Virginica']\n",
            "['6.9', '3.2', '5.7', '2.3', 'Virginica']\n",
            "['5.6', '2.8', '4.9', '2', 'Virginica']\n",
            "['7.7', '2.8', '6.7', '2', 'Virginica']\n",
            "['6.3', '2.7', '4.9', '1.8', 'Virginica']\n",
            "['6.7', '3.3', '5.7', '2.1', 'Virginica']\n",
            "['7.2', '3.2', '6', '1.8', 'Virginica']\n",
            "['6.2', '2.8', '4.8', '1.8', 'Virginica']\n",
            "['6.1', '3', '4.9', '1.8', 'Virginica']\n",
            "['6.4', '2.8', '5.6', '2.1', 'Virginica']\n",
            "['7.2', '3', '5.8', '1.6', 'Virginica']\n",
            "['7.4', '2.8', '6.1', '1.9', 'Virginica']\n",
            "['7.9', '3.8', '6.4', '2', 'Virginica']\n",
            "['6.4', '2.8', '5.6', '2.2', 'Virginica']\n",
            "['6.3', '2.8', '5.1', '1.5', 'Virginica']\n",
            "['6.1', '2.6', '5.6', '1.4', 'Virginica']\n",
            "['7.7', '3', '6.1', '2.3', 'Virginica']\n",
            "['6.3', '3.4', '5.6', '2.4', 'Virginica']\n",
            "['6.4', '3.1', '5.5', '1.8', 'Virginica']\n",
            "['6', '3', '4.8', '1.8', 'Virginica']\n",
            "['6.9', '3.1', '5.4', '2.1', 'Virginica']\n",
            "['6.7', '3.1', '5.6', '2.4', 'Virginica']\n",
            "['6.9', '3.1', '5.1', '2.3', 'Virginica']\n",
            "['5.8', '2.7', '5.1', '1.9', 'Virginica']\n",
            "['6.8', '3.2', '5.9', '2.3', 'Virginica']\n",
            "['6.7', '3.3', '5.7', '2.5', 'Virginica']\n",
            "['6.7', '3', '5.2', '2.3', 'Virginica']\n",
            "['6.3', '2.5', '5', '1.9', 'Virginica']\n",
            "['6.5', '3', '5.2', '2', 'Virginica']\n",
            "['6.2', '3.4', '5.4', '2.3', 'Virginica']\n",
            "['5.9', '3', '5.1', '1.8', 'Virginica']\n"
          ],
          "name": "stdout"
        }
      ]
    }
  ]
}