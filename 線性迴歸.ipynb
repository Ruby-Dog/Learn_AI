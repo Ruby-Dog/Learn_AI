{
  "nbformat": 4,
  "nbformat_minor": 0,
  "metadata": {
    "colab": {
      "name": "線性迴歸.ipynb",
      "provenance": [],
      "authorship_tag": "ABX9TyPxwdogAylmmQr/2/2cs7AQ",
      "include_colab_link": true
    },
    "kernelspec": {
      "name": "python3",
      "display_name": "Python 3"
    }
  },
  "cells": [
    {
      "cell_type": "markdown",
      "metadata": {
        "id": "view-in-github",
        "colab_type": "text"
      },
      "source": [
        "<a href=\"https://colab.research.google.com/github/Ruby-Dog/Learn_ML/blob/main/%E7%B7%9A%E6%80%A7%E8%BF%B4%E6%AD%B8.ipynb\" target=\"_parent\"><img src=\"https://colab.research.google.com/assets/colab-badge.svg\" alt=\"Open In Colab\"/></a>"
      ]
    },
    {
      "cell_type": "code",
      "metadata": {
        "id": "RXoE7bcniYk4"
      },
      "source": [
        "import numpy as np\r\n",
        "import pandas as pd\r\n",
        "from sklearn.linear_model import LinerRegression\r\n",
        "\r\n",
        "temperatures = np.array([29,28,34,31,\r\n",
        "              25,29,32,31,\r\n",
        "              24,33,25,31,\r\n",
        "              26,30])\r\n",
        "\r\n",
        "drinks_sales = np.array([7.7,6.9.3,8.4,\r\n",
        "              5.9,6.4,8.0,7.5,\r\n",
        "              5.8,9.1,5.1,7.3,\r\n",
        "              6.5,8.4])"
      ],
      "execution_count": null,
      "outputs": []
    }
  ]
}